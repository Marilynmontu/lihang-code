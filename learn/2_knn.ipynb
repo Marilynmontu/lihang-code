{
 "cells": [
  {
   "cell_type": "markdown",
   "metadata": {},
   "source": [
    "### KNN is the k-Nearest neighbour\n",
    "key 1. The choice of distance measurement <br>\n",
    "key 2. The choice of K <br>\n",
    "key 3. The choice of voting rule <br>"
   ]
  },
  {
   "cell_type": "markdown",
   "metadata": {},
   "source": [
    "#### 1.L-p distance measurement"
   ]
  },
  {
   "cell_type": "code",
   "execution_count": 18,
   "metadata": {},
   "outputs": [],
   "source": [
    "import math\n",
    "def distance(x, y, p=2):\n",
    "    # format check\n",
    "    if len(x) == len(y) and len(x) > 1:\n",
    "        d = 0.0\n",
    "        for i in range(len(x)):\n",
    "            d += math.pow(abs(x[i]-y[i]), p)\n",
    "        return math.pow(d, 1/p)\n",
    "    # format error\n",
    "    else:\n",
    "        return -1"
   ]
  },
  {
   "cell_type": "code",
   "execution_count": 19,
   "metadata": {},
   "outputs": [
    {
     "data": {
      "text/plain": [
       "-1"
      ]
     },
     "execution_count": 19,
     "metadata": {},
     "output_type": "execute_result"
    }
   ],
   "source": [
    "# Test\n",
    "distance([2], [4,6], 1)"
   ]
  },
  {
   "cell_type": "markdown",
   "metadata": {},
   "source": [
    "#### 2.KNN model class"
   ]
  },
  {
   "cell_type": "code",
   "execution_count": 38,
   "metadata": {},
   "outputs": [],
   "source": [
    "import numpy as np\n",
    "from collections import Counter  # for counting\n",
    "class KNN_Model():\n",
    "    def __init__(self, x, y, k=3, p=2):\n",
    "        self.k = k  # the number of neighbour\n",
    "        self.p = p  # the value of p in L-p distance\n",
    "        self.x = x\n",
    "        self.y = y\n",
    "    \n",
    "    def predict(self, x_main):\n",
    "        # find the k nearest neighbour\n",
    "        distance_list = []\n",
    "        \n",
    "        # 1.calculate the distance\n",
    "        for i in range(self.k):\n",
    "            dist = np.linalg.norm(x_main-self.x[i], ord = self.p)\n",
    "            distance_list.append((dist, self.y[i]))\n",
    "        \n",
    "        # 2.find the smallest distance with linear search\n",
    "        # NOTICE the part can be optimazed by kd-tree\n",
    "        \n",
    "        for i in range(self.k, len(self.x)):\n",
    "            # get the index of largest distance\n",
    "            max_index = distance_list.index(max(distance_list, key = lambda x: x[0]))\n",
    "            dist = np.linalg.norm(x_main-self.x[i], ord = self.p)\n",
    "            # if the distance is smaller than the largest, then update it with smaller one\n",
    "            if dist < distance_list[max_index][0]:\n",
    "                distance_list[max_index] = (dist, self.y[i])\n",
    "        \n",
    "        # get the k nearest distance instances\n",
    "        knn = [k[-1] for k in distance_list]\n",
    "        count_dict = Counter(knn)\n",
    "        print(count_dict)\n",
    "        # sort the count_dict to get the most vote\n",
    "        most = sorted(count_dict, key = lambda x : x)[-1]\n",
    "        print(most)\n",
    "        return most\n",
    "    \n",
    "    # calculate acccuracy (TP+TN) / (TP+FP+TN+FN)\n",
    "    def score(self, x_train, y_train):\n",
    "        tp_tn = 0\n",
    "        for index in range(len(x_train)):\n",
    "                x = x_train[index]\n",
    "                y = y_train[index]\n",
    "                # negtive\n",
    "                if self.predict(x)==y:\n",
    "                    # count TP+TN\n",
    "                    tp_tn += 1\n",
    "        print('tp_tn : {} / {}'.format(tp_tn, len(x_train)))\n",
    "        return tp_tn / len(x_train)"
   ]
  },
  {
   "cell_type": "markdown",
   "metadata": {},
   "source": [
    "#### Test with Iris dataset"
   ]
  },
  {
   "cell_type": "code",
   "execution_count": 58,
   "metadata": {},
   "outputs": [],
   "source": [
    "import pandas as pd\n",
    "import numpy as np\n",
    "from sklearn.datasets import load_iris\n",
    "import matplotlib.pyplot as plt\n",
    "iris = load_iris()\n",
    "# create dataframe from iris feature set\n",
    "df = pd.DataFrame(iris.data)\n",
    "# set columns label to iris target set\n",
    "df['label'] = iris.target\n",
    "# set columns 0,1,2,3 to real column meaning\n",
    "df.columns = ['sepal length', 'sepal width', 'petal length', 'petal width', 'label']\n",
    "data = np.array(df.iloc[:100, [0, 1, -1]])\n",
    "# split into feature and label \n",
    "x, y = data[:,:-1], data[:, -1]"
   ]
  },
  {
   "cell_type": "code",
   "execution_count": 61,
   "metadata": {},
   "outputs": [
    {
     "name": "stdout",
     "output_type": "stream",
     "text": [
      "train 80,2 test 20,2\n"
     ]
    }
   ],
   "source": [
    "from sklearn.model_selection import train_test_split\n",
    "x_train, x_test, y_train, y_test = train_test_split(x,y,test_size = 0.2)\n",
    "print('train {},{} test {},{}'.format(x_train.shape[0], x_train.shape[1], x_test.shape[0], x_test.shape[1]))"
   ]
  },
  {
   "cell_type": "markdown",
   "metadata": {},
   "source": [
    "#### create the model and predict, outputing the score"
   ]
  },
  {
   "cell_type": "code",
   "execution_count": 62,
   "metadata": {},
   "outputs": [],
   "source": [
    "model = KNN_Model(x_train, y_train, k=3)"
   ]
  },
  {
   "cell_type": "code",
   "execution_count": 63,
   "metadata": {},
   "outputs": [
    {
     "name": "stdout",
     "output_type": "stream",
     "text": [
      "Counter({0.0: 3})\n",
      "0.0\n",
      "Counter({0.0: 3})\n",
      "0.0\n",
      "Counter({1.0: 3})\n",
      "1.0\n",
      "Counter({0.0: 3})\n",
      "0.0\n",
      "Counter({1.0: 3})\n",
      "1.0\n",
      "Counter({0.0: 3})\n",
      "0.0\n",
      "Counter({0.0: 3})\n",
      "0.0\n",
      "Counter({0.0: 3})\n",
      "0.0\n",
      "Counter({0.0: 3})\n",
      "0.0\n",
      "Counter({1.0: 3})\n",
      "1.0\n",
      "Counter({0.0: 3})\n",
      "0.0\n",
      "Counter({1.0: 3})\n",
      "1.0\n",
      "Counter({0.0: 3})\n",
      "0.0\n",
      "Counter({0.0: 3})\n",
      "0.0\n",
      "Counter({1.0: 3})\n",
      "1.0\n",
      "Counter({0.0: 3})\n",
      "0.0\n",
      "Counter({0.0: 3})\n",
      "0.0\n",
      "Counter({1.0: 3})\n",
      "1.0\n",
      "Counter({1.0: 3})\n",
      "1.0\n",
      "Counter({1.0: 3})\n",
      "1.0\n",
      "tp_tn : 20 / 20\n"
     ]
    },
    {
     "data": {
      "text/plain": [
       "1.0"
      ]
     },
     "execution_count": 63,
     "metadata": {},
     "output_type": "execute_result"
    }
   ],
   "source": [
    "model.score(x_test, y_test)"
   ]
  },
  {
   "cell_type": "markdown",
   "metadata": {},
   "source": [
    "#### Test the point and plot"
   ]
  },
  {
   "cell_type": "code",
   "execution_count": 64,
   "metadata": {},
   "outputs": [
    {
     "name": "stdout",
     "output_type": "stream",
     "text": [
      "Counter({1.0: 3})\n",
      "1.0\n",
      "Test Point: 1.0\n"
     ]
    },
    {
     "data": {
      "text/plain": [
       "<matplotlib.legend.Legend at 0x1a193e0080>"
      ]
     },
     "execution_count": 64,
     "metadata": {},
     "output_type": "execute_result"
    },
    {
     "data": {
      "image/png": "[encoded data removed]",
      "text/plain": [
       "<Figure size 432x288 with 1 Axes>"
      ]
     },
     "metadata": {},
     "output_type": "display_data"
    }
   ],
   "source": [
    "# plot the test point\n",
    "test_point = [6.0, 3.0]\n",
    "print('Test Point: {}'.format(model.predict(test_point)))\n",
    "import matplotlib.pyplot as plt\n",
    "plt.scatter(df[:50]['sepal length'], df[:50]['sepal width'], label='0')\n",
    "plt.scatter(df[50:100]['sepal length'], df[50:100]['sepal width'], label='1')\n",
    "plt.plot(test_point[0], test_point[1], 'bo', label='test_point')\n",
    "plt.xlabel('sepal length')\n",
    "plt.ylabel('sepal width')\n",
    "plt.legend()"
   ]
  },
  {
   "cell_type": "markdown",
   "metadata": {},
   "source": [
    "### 3. Kd Tree"
   ]
  },
  {
   "cell_type": "code",
   "execution_count": 106,
   "metadata": {},
   "outputs": [],
   "source": [
    "# define the class : node of kd tree\n",
    "class KdNode:\n",
    "    def __init__(self, vector, dimention, left, right):\n",
    "        self.vector = vector  # the value of node\n",
    "        self.dimention = dimention  # the value of devide dimention\n",
    "        self.left = left  # left node link\n",
    "        self.right = right  # right node link\n",
    "\n",
    "# define the class : kd tree\n",
    "class KdTree:\n",
    "    def __init__(self, data):\n",
    "        # get the dimention\n",
    "        k = len(data[0])\n",
    "        \n",
    "        def CreateNode(split, data_set):\n",
    "            # if the data is none, return none\n",
    "            if not data_set:   \n",
    "                return None\n",
    "            # choose the median\n",
    "            # NOTICE the index is 2, means the third\n",
    "            data_set.sort(key=lambda x: x[split])  # sort the data in the dimention\n",
    "            split_pos = len(data_set) // 2  # // is to get round number, 5//2 = 2\n",
    "            median = data_set[split_pos]                 \n",
    "            split_next = (split + 1) % k  \n",
    "            \n",
    "            # start from 0 dim\n",
    "            return KdNode(median, split, \n",
    "                          CreateNode(split_next, data_set[:split_pos]),     \n",
    "                          CreateNode(split_next, data_set[split_pos + 1:]))   # NOTICE +1\n",
    "        # start from 0 dim                        \n",
    "        self.root = CreateNode(0, data)         \n",
    "\n",
    "# preorder the kd tree\n",
    "def preorder(root):\n",
    "    print(root.vector)\n",
    "    if root.left:\n",
    "        preorder(root.left)\n",
    "    if root.right:\n",
    "        preorder(root.right)"
   ]
  },
  {
   "cell_type": "code",
   "execution_count": 107,
   "metadata": {},
   "outputs": [],
   "source": [
    "from collections import namedtuple\n",
    "from math import sqrt"
   ]
  },
  {
   "cell_type": "code",
   "execution_count": 124,
   "metadata": {},
   "outputs": [],
   "source": [
    "# define the result namedtuple\n",
    "result = namedtuple(\"Result_tuple\", \"nearest_node  nearest_dist  nodes_visited\")\n",
    "\n",
    "# search in kd tree\n",
    "def find_nearest(tree, point):\n",
    "    \n",
    "    # k is the dimention of the target point\n",
    "    k = len(point)\n",
    "    \n",
    "    # recursion search function\n",
    "    def travel(kd_node, target, max_dist):\n",
    "        \n",
    "        # if node is none, return inf distance\n",
    "        if not kd_node:\n",
    "            return result([0]*k, float('inf'), 0)\n",
    "\n",
    "        #  since node is not none, visited this node\n",
    "        nodes_visited = 1\n",
    "\n",
    "        # get dimention and vector of kd_node\n",
    "        dim = kd_node.dimention\n",
    "        pivot = kd_node.vector\n",
    "        \n",
    "        # check which is the nearest and which is further part\n",
    "        if target[dim] < pivot[dim]:\n",
    "            nearest_node = kd_node.left\n",
    "            next_node = kd_node.right\n",
    "        else:\n",
    "            nearest_node = kd_node.right\n",
    "            next_node = kd_node.left\n",
    "\n",
    "        # recurse to get the node in temporary node\n",
    "        templ = travel(nearest_node, target, max_dist)\n",
    "\n",
    "        # set nearest and dist\n",
    "        nearest = templ.nearest_node\n",
    "        dist = templ.nearest_dist\n",
    "        \n",
    "        # update the number of visited nodes\n",
    "        nodes_visited += templ.nodes_visited\n",
    "\n",
    "        # update max_dist\n",
    "        if dist < max_dist:\n",
    "            max_dist = dist\n",
    "        \n",
    "        # check if temp is in target part in cycle\n",
    "        temp_dist = abs(pivot[dim] - target[dim])\n",
    "        \n",
    "        # check the circle and not touched, then return \n",
    "        if max_dist < temp_dist:\n",
    "            return result(nearest, dist, nodes_visited)\n",
    "        \n",
    "        # cal l2 distance\n",
    "        temp_dist = sqrt(sum((p1-p2)**2 for p1, p2 in zip(pivot, target)))\n",
    "        if temp_dist < dist:\n",
    "            nearest = pivot\n",
    "            dist = temp_dist\n",
    "            max_dist = dist\n",
    "        \n",
    "        # recurse to get the node in temporary node\n",
    "        templ = travel(next_node, target, max_dist)\n",
    "        \n",
    "        nodes_visited += templ.nodes_visited\n",
    "        \n",
    "        if templ.nearest_dist < dist:\n",
    "            nearest = templ.nearest_node\n",
    "            dist = templ.nearest_dist\n",
    "            \n",
    "        return result(nearest, dist, nodes_visited)\n",
    "\n",
    "    return travel(tree.root, point, float('inf'))\n"
   ]
  },
  {
   "cell_type": "code",
   "execution_count": 113,
   "metadata": {},
   "outputs": [
    {
     "name": "stdout",
     "output_type": "stream",
     "text": [
      "[7, 2]\n",
      "[5, 4]\n",
      "[2, 3]\n",
      "[4, 7]\n",
      "[9, 6]\n",
      "[8, 1]\n"
     ]
    }
   ],
   "source": [
    "data = [[2,3],[5,4],[9,6],[4,7],[8,1],[7,2]]\n",
    "kd = KdTree(data)\n",
    "preorder(kd.root)"
   ]
  },
  {
   "cell_type": "code",
   "execution_count": 118,
   "metadata": {},
   "outputs": [],
   "source": [
    "from time import clock\n",
    "from random import random\n",
    "\n",
    "# 产生一个k维随机向量，每维分量值在0~1之间\n",
    "def random_point(k):\n",
    "    return [random() for _ in range(k)]\n",
    " \n",
    "# 产生n个k维随机向量 \n",
    "def random_points(k, n):\n",
    "    return [random_point(k) for _ in range(n)] "
   ]
  },
  {
   "cell_type": "code",
   "execution_count": 125,
   "metadata": {},
   "outputs": [
    {
     "name": "stdout",
     "output_type": "stream",
     "text": [
      "Result_tuple(nearest_node=[2, 3], nearest_dist=1.8027756377319946, nodes_visited=4)\n"
     ]
    }
   ],
   "source": [
    "ret = find_nearest(kd, [3,4.5])\n",
    "print (ret)"
   ]
  },
  {
   "cell_type": "code",
   "execution_count": 126,
   "metadata": {},
   "outputs": [
    {
     "name": "stdout",
     "output_type": "stream",
     "text": [
      "time:  7.5687289999999905 s\n",
      "Result_tuple(nearest_node=[0.09642362335108356, 0.4996879465980524, 0.800727333562886], nearest_dist=0.0036629034074463626, nodes_visited=39)\n"
     ]
    }
   ],
   "source": [
    "N = 400000\n",
    "t0 = clock()\n",
    "kd2 = KdTree(random_points(3, N))            # 构建包含四十万个3维空间样本点的kd树\n",
    "ret2 = find_nearest(kd2, [0.1,0.5,0.8])      # 四十万个样本点中寻找离目标最近的点\n",
    "t1 = clock()\n",
    "print (\"time: \",t1-t0, \"s\")\n",
    "print (ret2)"
   ]
  }
 ],
 "metadata": {
  "kernelspec": {
   "display_name": "Python 3",
   "language": "python",
   "name": "python3"
  },
  "language_info": {
   "codemirror_mode": {
    "name": "ipython",
    "version": 3
   },
   "file_extension": ".py",
   "mimetype": "text/x-python",
   "name": "python",
   "nbconvert_exporter": "python",
   "pygments_lexer": "ipython3",
   "version": "3.6.5"
  }
 },
 "nbformat": 4,
 "nbformat_minor": 2
}
