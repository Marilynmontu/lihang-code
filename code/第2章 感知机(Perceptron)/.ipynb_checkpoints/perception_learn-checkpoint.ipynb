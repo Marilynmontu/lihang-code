{
 "cells": [
  {
   "cell_type": "code",
   "execution_count": 1,
   "metadata": {},
   "outputs": [],
   "source": [
    "import pandas as pd\n",
    "import numpy as np\n",
    "from sklearn.datasets import load_iris\n",
    "import matplotlib.pyplot as plt"
   ]
  },
  {
   "cell_type": "code",
   "execution_count": 2,
   "metadata": {},
   "outputs": [],
   "source": [
    "# load data\n",
    "iris = load_iris()\n",
    "df = pd.DataFrame(iris.data)"
   ]
  },
  {
   "cell_type": "code",
   "execution_count": 3,
   "metadata": {},
   "outputs": [],
   "source": [
    "# set label and default 5 columns\n",
    "df['label'] = iris.target\n",
    "df.columns = ['sepal length', 'sepal width', 'petal length', 'petal width', 'label']"
   ]
  },
  {
   "cell_type": "code",
   "execution_count": 4,
   "metadata": {},
   "outputs": [
    {
     "data": {
      "text/plain": [
       "2    50\n",
       "1    50\n",
       "0    50\n",
       "Name: label, dtype: int64"
      ]
     },
     "execution_count": 4,
     "metadata": {},
     "output_type": "execute_result"
    }
   ],
   "source": [
    "# value count\n",
    "df.label.value_counts()"
   ]
  },
  {
   "cell_type": "code",
   "execution_count": 5,
   "metadata": {},
   "outputs": [
    {
     "data": {
      "text/plain": [
       "<matplotlib.legend.Legend at 0x1093b60f0>"
      ]
     },
     "execution_count": 5,
     "metadata": {},
     "output_type": "execute_result"
    },
    {
     "data": {
      "image/png": "[encoded data removed]",
      "text/plain": [
       "<Figure size 432x288 with 1 Axes>"
      ]
     },
     "metadata": {},
     "output_type": "display_data"
    }
   ],
   "source": [
    "# plot\n",
    "plt.scatter(df[:50]['sepal length'], df[:50]['sepal width'], label ='0')\n",
    "plt.scatter(df[50:100]['sepal length'], df[50:100]['sepal width'], label = '1')\n",
    "plt.xlabel('sepal length')\n",
    "plt.ylabel('sepal width')\n",
    "plt.legend()"
   ]
  },
  {
   "cell_type": "code",
   "execution_count": 6,
   "metadata": {},
   "outputs": [],
   "source": [
    "# use 100 rows for training, choose 0,1,-1 column\n",
    "data = np.array(df.iloc[:100, [0, 1, -1]])"
   ]
  },
  {
   "cell_type": "code",
   "execution_count": 7,
   "metadata": {},
   "outputs": [
    {
     "data": {
      "text/plain": [
       "(100, 3)"
      ]
     },
     "execution_count": 7,
     "metadata": {},
     "output_type": "execute_result"
    }
   ],
   "source": [
    "data.shape # print data shape"
   ]
  },
  {
   "cell_type": "code",
   "execution_count": 8,
   "metadata": {},
   "outputs": [],
   "source": [
    "# split into feature and label \n",
    "x, y = data[:,:-1], data[:, -1]"
   ]
  },
  {
   "cell_type": "code",
   "execution_count": 9,
   "metadata": {},
   "outputs": [
    {
     "data": {
      "text/plain": [
       "((100, 2), (100,))"
      ]
     },
     "execution_count": 9,
     "metadata": {},
     "output_type": "execute_result"
    }
   ],
   "source": [
    "x.shape, y.shape # print x, y shape"
   ]
  },
  {
   "cell_type": "code",
   "execution_count": 10,
   "metadata": {},
   "outputs": [],
   "source": [
    "# change y into two categories 1:-1 for simplification\n",
    "y = np.array([1 if i==1 else -1 for i in y])"
   ]
  },
  {
   "cell_type": "markdown",
   "metadata": {},
   "source": [
    "### Perception : Binary classification model\n",
    "\n",
    "1. learning function: $f(x) = sign(w*x + b)$\n",
    "\n",
    "2. for the +1 label points, if wrongly classified, $(w*x + b) <  0$\n",
    "\n",
    "for the -1 label points, if wrongly classified, $(w*x + b) > 0$\n",
    "\n",
    "so $ y_{i}(w*x_{i} + b) $ are negtive to all wrongly classified points.\n",
    "\n",
    "=> loss: $L(w, b) = -\\Sigma{y_{i}(w*x_{i} + b)}$\n",
    "\n",
    "### use SDG to learn\n",
    "randomly choose a wrong classified point, change $w,b$:\n",
    "\n",
    "$w = w + \\eta y_{i}x_{i}$\n",
    "\n",
    "$b = b + \\eta y_{i}$"
   ]
  },
  {
   "cell_type": "code",
   "execution_count": 13,
   "metadata": {},
   "outputs": [],
   "source": [
    "# Define perceptron model\n",
    "class PerceptronModel:\n",
    "    # initialize\n",
    "    def __init__(self):\n",
    "        # w has two dimentions\n",
    "        self.w = np.ones(len(data[0])-1, dtype = np.float32)\n",
    "        self.b = 0\n",
    "        self.learning_rate = 0.1\n",
    "        \n",
    "    #  define y = w * x + b   \n",
    "    def sign(self, x, w, b):\n",
    "        return np.dot(w, x) + b\n",
    "\n",
    "    #  fit\n",
    "    def fit(self, x_train, y_train):\n",
    "        is_wrong = True\n",
    "        while is_wrong:\n",
    "            is_wrong = False\n",
    "            for index in range(len(x_train)):\n",
    "                x = x_train[index]\n",
    "                y = y_train[index]\n",
    "                # negtive\n",
    "                if y * self.sign(x, self.w, self.b) < 0:\n",
    "                    # update w, b\n",
    "                    self.w += self.learning_rate * np.dot(y, x)\n",
    "                    self.b += self.learning_rate * y\n",
    "                    # set label and break\n",
    "                    is_wrong = True\n",
    "                    break \n",
    "        print('finish learning')\n",
    "        \n",
    "    # calculate score\n",
    "    def score(self):\n",
    "        pass   "
   ]
  },
  {
   "cell_type": "code",
   "execution_count": 14,
   "metadata": {},
   "outputs": [
    {
     "name": "stdout",
     "output_type": "stream",
     "text": [
      "finish learning\n"
     ]
    }
   ],
   "source": [
    "# define a model instance and train\n",
    "perceptron = PerceptronModel()\n",
    "perceptron.fit(x, y)"
   ]
  },
  {
   "cell_type": "code",
   "execution_count": 15,
   "metadata": {},
   "outputs": [],
   "source": [
    "# np.linspace(start, end, number)\n",
    "# return num equally spaced samples in the closed interval [start, stop]\n",
    "x_points = np.linspace(4, 7, 10)\n",
    "y_ = -(perceptron.w[0] * x_points + perceptron.b) / perceptron.w[1]"
   ]
  },
  {
   "cell_type": "code",
   "execution_count": 16,
   "metadata": {},
   "outputs": [
    {
     "data": {
      "text/plain": [
       "array([4.        , 4.33333333, 4.66666667, 5.        , 5.33333333,\n",
       "       5.66666667, 6.        , 6.33333333, 6.66666667, 7.        ])"
      ]
     },
     "execution_count": 16,
     "metadata": {},
     "output_type": "execute_result"
    }
   ],
   "source": [
    "x_points"
   ]
  },
  {
   "cell_type": "code",
   "execution_count": 17,
   "metadata": {},
   "outputs": [
    {
     "data": {
      "text/plain": [
       "array([  7.8800726, -10.069805 ], dtype=float32)"
      ]
     },
     "execution_count": 17,
     "metadata": {},
     "output_type": "execute_result"
    }
   ],
   "source": [
    "perceptron.w"
   ]
  },
  {
   "cell_type": "code",
   "execution_count": 18,
   "metadata": {},
   "outputs": [
    {
     "data": {
      "text/plain": [
       "-12.299999999999972"
      ]
     },
     "execution_count": 18,
     "metadata": {},
     "output_type": "execute_result"
    }
   ],
   "source": [
    "perceptron.b"
   ]
  },
  {
   "cell_type": "code",
   "execution_count": 19,
   "metadata": {},
   "outputs": [
    {
     "data": {
      "text/plain": [
       "<matplotlib.legend.Legend at 0x10d7cbbe0>"
      ]
     },
     "execution_count": 19,
     "metadata": {},
     "output_type": "execute_result"
    },
    {
     "data": {
      "image/png": "[encoded data removed]",
      "text/plain": [
       "<Figure size 432x288 with 1 Axes>"
      ]
     },
     "metadata": {},
     "output_type": "display_data"
    }
   ],
   "source": [
    "# plot the line and points\n",
    "# !hard to understand y_: \n",
    "# perceptron.w[0]*x_points + perceptron.w[1]*y_ + perceptron.b = 0\n",
    "y_ = -(perceptron.w[0]*x_points + perceptron.b)/perceptron.w[1]\n",
    "plt.plot(x_points, y_)\n",
    "\n",
    "plt.plot(data[:50, 0], data[:50, 1], 'bo', color='blue', label='0')\n",
    "plt.plot(data[50:100, 0], data[50:100, 1], 'bo', color='orange', label='1')\n",
    "plt.xlabel('sepal length')\n",
    "plt.ylabel('sepal width')\n",
    "plt.legend()"
   ]
  },
  {
   "cell_type": "code",
   "execution_count": 20,
   "metadata": {},
   "outputs": [
    {
     "name": "stdout",
     "output_type": "stream",
     "text": [
      "-1 -7.355947780609103\n",
      "-1 -3.89705972671506\n",
      "-1 -7.48703527450559\n",
      "-1 -7.268062019348118\n",
      "-1 -9.150935554504368\n",
      "-1 -9.019848060607881\n",
      "-1 -10.289003562927217\n",
      "-1 -7.136974525451631\n",
      "-1 -6.830115509033174\n",
      "-1 -4.904040241241429\n",
      "-1 -7.005887031555151\n",
      "-1 -8.712989044189424\n",
      "-1 -4.685066986083957\n",
      "-1 -8.625103282928439\n",
      "-1 -6.874799537658664\n",
      "-1 -11.690728855133035\n",
      "-1 -9.019848060607881\n",
      "-1 -7.355947780609103\n",
      "-1 -5.648845767974823\n",
      "-1 -10.376889324188202\n",
      "-1 -3.984945487976045\n",
      "-1 -9.36990880966184\n",
      "-1 -12.302964591979954\n",
      "-1 -5.341986751556366\n",
      "-1 -8.712989044189424\n",
      "-1 -3.1090524673461637\n",
      "-1 -7.136974525451631\n",
      "-1 -6.567940521240207\n",
      "-1 -5.560960006713838\n",
      "-1 -7.48703527450559\n",
      "-1 -5.692047500610325\n",
      "-1 -3.984945487976045\n",
      "-1 -12.609823608398404\n",
      "-1 -11.25278234481809\n",
      "-1 -4.904040241241429\n",
      "-1 -5.123013496398901\n",
      "-1 -4.203918743133517\n",
      "-1 -4.904040241241429\n",
      "-1 -7.837096023559543\n",
      "-1 -6.3489672660827345\n",
      "-1 -8.143955039978\n",
      "-1 -0.0002251625060729623\n",
      "-1 -9.85105705261228\n",
      "-1 -8.143955039978\n",
      "-1 -10.376889324188202\n",
      "-1 -4.685066986083957\n",
      "-1 -10.376889324188202\n",
      "-1 -8.275042533874487\n",
      "-1 -7.793894290924047\n",
      "-1 -6.129994010925262\n",
      "1 10.637131690979029\n",
      "1 5.90908813476565\n",
      "1 10.856104946136501\n",
      "1 7.879847431182892\n",
      "1 10.72501745224002\n",
      "1 4.420959377288849\n",
      "1 4.114100360870392\n",
      "1 2.1448233604431444\n",
      "1 10.506044197082549\n",
      "1 1.487903594970728\n",
      "1 6.960752677917508\n",
      "1 3.9830128669739047\n",
      "1 12.826864242553736\n",
      "1 6.566007900238066\n",
      "1 2.625971603393584\n",
      "1 9.280090427398708\n",
      "1 1.6189910888672152\n",
      "1 6.215947151184107\n",
      "1 14.402878761291529\n",
      "1 6.653893661499051\n",
      "1 1.9690518379211674\n",
      "1 7.572988414764435\n",
      "1 12.169944477081327\n",
      "1 7.572988414764435\n",
      "1 8.930029678344756\n",
      "1 9.49906368255618\n",
      "1 13.08903923034671\n",
      "1 10.287070941925077\n",
      "1 5.77800064086917\n",
      "1 6.434920406341579\n",
      "1 6.872866916656523\n",
      "1 6.872866916656523\n",
      "1 6.215947151184107\n",
      "1 7.7919616699219\n",
      "1 0.04297657012942224\n",
      "1 0.7430980682373338\n",
      "1 9.280090427398708\n",
      "1 14.183905506134064\n",
      "1 1.6189910888672152\n",
      "1 5.865886402130155\n",
      "1 4.858905887603786\n",
      "1 5.559027385711698\n",
      "1 7.2229276657104755\n",
      "1 3.9398111343384095\n",
      "1 4.639932632446314\n",
      "1 2.4069983482361117\n",
      "1 3.4139788627624803\n",
      "1 7.354015159606963\n",
      "1 2.7138573646545687\n",
      "1 4.420959377288849\n"
     ]
    }
   ],
   "source": [
    "for index in range(len(x)):\n",
    "    x_i = x[index]\n",
    "    y_i = y[index]\n",
    "    print(y_i,perceptron.sign(x_i, perceptron.w, perceptron.b))"
   ]
  },
  {
   "cell_type": "markdown",
   "metadata": {},
   "source": [
    "We can see all the instances are correctly classified."
   ]
  },
  {
   "cell_type": "markdown",
   "metadata": {},
   "source": [
    "### sklearn Perceptron"
   ]
  },
  {
   "cell_type": "code",
   "execution_count": 21,
   "metadata": {},
   "outputs": [],
   "source": [
    "from sklearn.linear_model import Perceptron"
   ]
  },
  {
   "cell_type": "code",
   "execution_count": 22,
   "metadata": {},
   "outputs": [
    {
     "data": {
      "text/plain": [
       "Perceptron(alpha=0.0001, class_weight=None, eta0=1.0, fit_intercept=False,\n",
       "      max_iter=1000, n_iter=None, n_jobs=1, penalty=None, random_state=0,\n",
       "      shuffle=False, tol=None, verbose=0, warm_start=False)"
      ]
     },
     "execution_count": 22,
     "metadata": {},
     "output_type": "execute_result"
    }
   ],
   "source": [
    "# fit_intercept is False: centered\n",
    "clf = Perceptron(fit_intercept = False, max_iter = 1000, shuffle = False)\n",
    "clf.fit(x, y)"
   ]
  },
  {
   "cell_type": "code",
   "execution_count": 23,
   "metadata": {},
   "outputs": [
    {
     "data": {
      "text/plain": [
       "array([[  74.6, -127.2]])"
      ]
     },
     "execution_count": 23,
     "metadata": {},
     "output_type": "execute_result"
    }
   ],
   "source": [
    "clf.coef_"
   ]
  },
  {
   "cell_type": "code",
   "execution_count": 24,
   "metadata": {},
   "outputs": [
    {
     "data": {
      "text/plain": [
       "array([0.])"
      ]
     },
     "execution_count": 24,
     "metadata": {},
     "output_type": "execute_result"
    }
   ],
   "source": [
    "clf.intercept_"
   ]
  },
  {
   "cell_type": "code",
   "execution_count": 25,
   "metadata": {},
   "outputs": [
    {
     "data": {
      "text/plain": [
       "<matplotlib.legend.Legend at 0x10dd2c5c0>"
      ]
     },
     "execution_count": 25,
     "metadata": {},
     "output_type": "execute_result"
    },
    {
     "data": {
      "image/png": "[encoded data removed]",
      "text/plain": [
       "<Figure size 432x288 with 1 Axes>"
      ]
     },
     "metadata": {},
     "output_type": "display_data"
    }
   ],
   "source": [
    "x_ponits = np.arange(4, 8)\n",
    "y_ = -(clf.coef_[0][0]*x_ponits + clf.intercept_)/clf.coef_[0][1]\n",
    "plt.plot(x_ponits, y_)\n",
    "\n",
    "plt.plot(data[:50, 0], data[:50, 1], 'bo', color='blue', label='0')\n",
    "plt.plot(data[50:100, 0], data[50:100, 1], 'bo', color='orange', label='1')\n",
    "plt.xlabel('sepal length')\n",
    "plt.ylabel('sepal width')\n",
    "plt.legend()"
   ]
  },
  {
   "cell_type": "code",
   "execution_count": 26,
   "metadata": {},
   "outputs": [
    {
     "data": {
      "text/plain": [
       "Perceptron(alpha=0.0001, class_weight=None, eta0=1.0, fit_intercept=True,\n",
       "      max_iter=1000, n_iter=None, n_jobs=1, penalty=None, random_state=0,\n",
       "      shuffle=False, tol=None, verbose=0, warm_start=False)"
      ]
     },
     "execution_count": 26,
     "metadata": {},
     "output_type": "execute_result"
    }
   ],
   "source": [
    "# not centered\n",
    "# fit_intercept is False: centered\n",
    "clf = Perceptron(fit_intercept = True, max_iter = 1000, shuffle = False)\n",
    "clf.fit(x, y)"
   ]
  },
  {
   "cell_type": "code",
   "execution_count": 27,
   "metadata": {},
   "outputs": [
    {
     "data": {
      "text/plain": [
       "array([[  79.8, -101.4]])"
      ]
     },
     "execution_count": 27,
     "metadata": {},
     "output_type": "execute_result"
    }
   ],
   "source": [
    "clf.coef_"
   ]
  },
  {
   "cell_type": "code",
   "execution_count": 28,
   "metadata": {},
   "outputs": [
    {
     "data": {
      "text/plain": [
       "array([-126.])"
      ]
     },
     "execution_count": 28,
     "metadata": {},
     "output_type": "execute_result"
    }
   ],
   "source": [
    "clf.intercept_"
   ]
  },
  {
   "cell_type": "code",
   "execution_count": 29,
   "metadata": {},
   "outputs": [
    {
     "data": {
      "text/plain": [
       "<matplotlib.legend.Legend at 0x10de019b0>"
      ]
     },
     "execution_count": 29,
     "metadata": {},
     "output_type": "execute_result"
    },
    {
     "data": {
      "image/png": "[encoded data removed]",
      "text/plain": [
       "<Figure size 432x288 with 1 Axes>"
      ]
     },
     "metadata": {},
     "output_type": "display_data"
    }
   ],
   "source": [
    "x_ponits = np.arange(4, 8)\n",
    "y_ = -(clf.coef_[0][0]*x_ponits + clf.intercept_)/clf.coef_[0][1]\n",
    "plt.plot(x_ponits, y_)\n",
    "\n",
    "plt.plot(data[:50, 0], data[:50, 1], 'bo', color='blue', label='0')\n",
    "plt.plot(data[50:100, 0], data[50:100, 1], 'bo', color='orange', label='1')\n",
    "plt.xlabel('sepal length')\n",
    "plt.ylabel('sepal width')\n",
    "plt.legend()"
   ]
  }
 ],
 "metadata": {
  "kernelspec": {
   "display_name": "Python 3",
   "language": "python",
   "name": "python3"
  },
  "language_info": {
   "codemirror_mode": {
    "name": "ipython",
    "version": 3
   },
   "file_extension": ".py",
   "mimetype": "text/x-python",
   "name": "python",
   "nbconvert_exporter": "python",
   "pygments_lexer": "ipython3",
   "version": "3.6.5"
  }
 },
 "nbformat": 4,
 "nbformat_minor": 2
}
